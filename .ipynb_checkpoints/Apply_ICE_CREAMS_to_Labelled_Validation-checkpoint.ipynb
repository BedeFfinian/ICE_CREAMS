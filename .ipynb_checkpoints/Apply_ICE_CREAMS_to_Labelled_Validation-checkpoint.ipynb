{
 "cells": [
  {
   "cell_type": "markdown",
   "id": "8dfb0910-30fb-4a03-920e-62a7e57a337e",
   "metadata": {},
   "source": [
    "# Apply ICE CREAMS Model to Labelled Validation"
   ]
  },
  {
   "cell_type": "code",
   "execution_count": null,
   "id": "c453c8c5-4e0c-47ca-9a95-9e79cd7927a8",
   "metadata": {},
   "outputs": [],
   "source": [
    "from fastai.tabular.all import load_learner\n",
    "import pandas as pd"
   ]
  },
  {
   "cell_type": "markdown",
   "id": "b6ff2250-87a6-40b6-94a2-3c2fc9501b4e",
   "metadata": {},
   "source": [
    "This script uses a large labelled dataset created to validate ICE CREAMS. It consists of a selection of labelled sentinel-2 pixels from across Europe and across the classes the ICE CREAMS predicts. This script focuses on Magniolopsida (Seagrass) and has a cut off of 0.246 NDVI (equivalent to 20 % Seagrass cover). First we load the pickled model, then we load the labelled validation data. We apply the model to the labelled data and then compare the the ratios and numbers of True Positive (TP), True Negative (TN), False Positive (FP) and False Negative (FN). These are then used to calculate accuracy and F1 scores. "
   ]
  },
  {
   "cell_type": "code",
   "execution_count": null,
   "id": "8655e6c0-16b5-4530-bf15-41dc27a2c77b",
   "metadata": {},
   "outputs": [],
   "source": [
    "learn = load_learner('Models/ICECREAMS_V1_1.pkl')"
   ]
  },
  {
   "cell_type": "code",
   "execution_count": null,
   "id": "187db374-f77b-42ee-98ae-b02cb1488d49",
   "metadata": {},
   "outputs": [],
   "source": [
    "df_test = pd.read_csv('Data/Input/Validation/Validation_Europe_LabelledS2.csv', low_memory=False,sep=\",\")"
   ]
  },
  {
   "cell_type": "code",
   "execution_count": null,
   "id": "3ce8478b-587d-4710-a51e-554623a68780",
   "metadata": {},
   "outputs": [],
   "source": [
    "df_test"
   ]
  },
  {
   "cell_type": "code",
   "execution_count": null,
   "id": "3d9c8f34-06b2-4704-8315-256de04e92a5",
   "metadata": {},
   "outputs": [],
   "source": [
    "caselist=[(df_test.Label_Char!=\"Magnoliopsida\", 'Absence'), \n",
    "          ((df_test.Label_Char==\"Magnoliopsida\") & (df_test.NDVI.lt(0.246)), 'Absence'), \n",
    "          (df_test.Label_Char==\"Magnoliopsida\", 'Presence')]\n",
    "\n",
    "df_test=df_test.assign(Label_Char_PvA = df_test.Label_Char.case_when(caselist=caselist))"
   ]
  },
  {
   "cell_type": "code",
   "execution_count": null,
   "id": "3c7fd4eb-42c7-4e79-af02-97963bddb411",
   "metadata": {},
   "outputs": [],
   "source": [
    "dl = learn.dls.test_dl(df_test, bs=4000)\n",
    "preds,_ = learn.get_preds(dl=dl)"
   ]
  },
  {
   "cell_type": "code",
   "execution_count": null,
   "id": "8fad4d57-762d-4101-9421-60616d7624b3",
   "metadata": {},
   "outputs": [],
   "source": [
    "class_idxs = preds.argmax(axis=1)\n",
    "res = [learn.dls.vocab[c] for c in class_idxs]"
   ]
  },
  {
   "cell_type": "code",
   "execution_count": null,
   "id": "ab72de69-5118-4091-8601-849e17fc2b13",
   "metadata": {},
   "outputs": [],
   "source": [
    "class_probs= preds.max(axis=1)\n",
    "class_probs=class_probs.values"
   ]
  },
  {
   "cell_type": "code",
   "execution_count": null,
   "id": "9e2de801-579b-4a15-9d1b-3f62e4d6a59f",
   "metadata": {},
   "outputs": [],
   "source": [
    "NumPred= class_idxs.tolist()"
   ]
  },
  {
   "cell_type": "code",
   "execution_count": null,
   "id": "12789afe-5ffb-449e-bf61-8838d31fd16a",
   "metadata": {},
   "outputs": [],
   "source": [
    "PredProbs =class_probs.tolist()"
   ]
  },
  {
   "cell_type": "code",
   "execution_count": null,
   "id": "a2ec6faa-5ac2-4240-9027-8075089f6a47",
   "metadata": {},
   "outputs": [],
   "source": [
    "res_df= pd.DataFrame(list(zip(df_test['x'],\n",
    "                              df_test['y'],\n",
    "                              df_test['Label_Char_PvA'],\n",
    "                              df_test['NDVI'],\n",
    "                              res,\n",
    "                              PredProbs)),\n",
    "                     columns =['x','y','Label_Char_PvA','NDVI','Pred_Class','Prob'])\n",
    "res_df"
   ]
  },
  {
   "cell_type": "code",
   "execution_count": null,
   "id": "93c62b35-c8f9-46cb-b40c-8c647cda8066",
   "metadata": {},
   "outputs": [],
   "source": [
    "res_df.groupby(['Label_Char_PvA','Pred_Class'])['x'].count()"
   ]
  },
  {
   "cell_type": "code",
   "execution_count": null,
   "id": "4dca1b24-479a-44e1-89fc-14e37e903854",
   "metadata": {},
   "outputs": [],
   "source": [
    "caselist=[(res_df.Pred_Class!=\"Magnoliopsida\", 'Absence'), \n",
    "          ((res_df.Pred_Class==\"Magnoliopsida\") & (res_df.NDVI.lt(0.246)), 'Absence'), \n",
    "          (res_df.Pred_Class==\"Magnoliopsida\", 'Presence')]\n",
    "res_df=res_df.assign(Pred_Class_PvA = res_df.Pred_Class.case_when(caselist=caselist))"
   ]
  },
  {
   "cell_type": "code",
   "execution_count": null,
   "id": "ae2b3e28-9462-48f1-9670-36623c3909dc",
   "metadata": {},
   "outputs": [],
   "source": [
    "Results=res_df.groupby(['Label_Char_PvA','Pred_Class_PvA'])['x'].count().reset_index()"
   ]
  },
  {
   "cell_type": "code",
   "execution_count": null,
   "id": "c12111b1-745e-4cb9-aee6-223bc3a70488",
   "metadata": {},
   "outputs": [],
   "source": [
    "Results"
   ]
  },
  {
   "cell_type": "code",
   "execution_count": null,
   "id": "83f1d94a-6f52-4079-b8d8-32f04858725c",
   "metadata": {},
   "outputs": [],
   "source": [
    "TP=Results.query(\"Label_Char_PvA == 'Presence' and Pred_Class_PvA == 'Presence'\")[['x']].iloc[0]\n",
    "TN=Results.query(\"Label_Char_PvA == 'Absence' and Pred_Class_PvA == 'Absence'\")[['x']].iloc[0]\n",
    "FP=Results.query(\"Label_Char_PvA == 'Absence' and Pred_Class_PvA == 'Presence'\")[['x']].iloc[0]\n",
    "FN=Results.query(\"Label_Char_PvA == 'Presence' and Pred_Class_PvA == 'Absence'\")[['x']].iloc[0]\n",
    "Precision=TP/(TP+FP)\n",
    "Recall=TP/(TP+FN)\n",
    "F1=(2*Precision*Recall)/(Precision+Recall)"
   ]
  },
  {
   "cell_type": "code",
   "execution_count": null,
   "id": "e70f781c-2a86-4dbb-8e4a-20dca31026bb",
   "metadata": {},
   "outputs": [],
   "source": [
    "Accuracy=((TP+TN)/(TP+TN+FN+FP))*100"
   ]
  },
  {
   "cell_type": "code",
   "execution_count": null,
   "id": "072f1faf-ce3e-4f18-a12b-3645ed9c57d7",
   "metadata": {},
   "outputs": [],
   "source": [
    "Accuracy"
   ]
  },
  {
   "cell_type": "code",
   "execution_count": null,
   "id": "e80a61cd-996d-4020-bf13-d746f328370a",
   "metadata": {},
   "outputs": [],
   "source": [
    "F1"
   ]
  },
  {
   "cell_type": "code",
   "execution_count": null,
   "id": "15fd3c89-9d62-4e39-9d12-e43ff11f65a5",
   "metadata": {},
   "outputs": [],
   "source": [
    "Precision"
   ]
  },
  {
   "cell_type": "code",
   "execution_count": null,
   "id": "b518404e-eb7f-4ff7-9b10-e1d08b30e50f",
   "metadata": {},
   "outputs": [],
   "source": [
    "Recall"
   ]
  }
 ],
 "metadata": {
  "kernelspec": {
   "display_name": "Python 3 (ipykernel)",
   "language": "python",
   "name": "python3"
  },
  "language_info": {
   "codemirror_mode": {
    "name": "ipython",
    "version": 3
   },
   "file_extension": ".py",
   "mimetype": "text/x-python",
   "name": "python",
   "nbconvert_exporter": "python",
   "pygments_lexer": "ipython3",
   "version": "3.12.2"
  }
 },
 "nbformat": 4,
 "nbformat_minor": 5
}
