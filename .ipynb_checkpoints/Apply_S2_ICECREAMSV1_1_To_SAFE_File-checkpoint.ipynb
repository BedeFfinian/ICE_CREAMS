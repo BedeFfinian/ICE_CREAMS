{
 "cells": [
  {
   "cell_type": "markdown",
   "metadata": {},
   "source": [
    "# Prediction on S2 by ICE CREAMS"
   ]
  },
  {
   "cell_type": "markdown",
   "metadata": {},
   "source": [
    "Use the apply_ICECREAMS_V1_1.py file to predict on Sentinel-2 image."
   ]
  },
  {
   "cell_type": "code",
   "execution_count": 6,
   "metadata": {},
   "outputs": [],
   "source": [
    "import apply_ICECREAMS_V1_1\n",
    "import glob"
   ]
  },
  {
   "cell_type": "markdown",
   "metadata": {},
   "source": [
    "Find location of all downloaded and unzipped .SAFE files from Sentinel-2 for site of interest, loop through these files, mask using an intertidal mask for the site of interest that is in the same projection and crs as the .SAFE file being predicted on (Murray et al., 2019), apply the ICE CREAMS model to these masked S2 Imagery. \n",
    "\n",
    "fname is a pathway for the .SAFE files, oname is the desired pathway and new name of prediction geoTIFF."
   ]
  },
  {
   "cell_type": "code",
   "execution_count": null,
   "metadata": {},
   "outputs": [],
   "source": [
    "path = \"Folder/*.SAFE\"\n",
    "for fname in glob.glob(path):\n",
    "    oname=fname.replace('.SAFE','_Pred_BFRD_V1_1.tif')\n",
    "    apply_ICECREAMS_V1_1.classify_s2_scene(fname,\n",
    "                                                         oname,\n",
    "                                                         \"Folder/ICECREAMS_V1_1.pkl\",\n",
    "                                                         \"Folder/Intertidal_Mask.shp\")"
   ]
  },
  {
   "cell_type": "markdown",
   "metadata": {},
   "source": [
    "Output GeoTIFF has three bands at 10 m resolution: \"Out_Class\", \"Class_Probs\" and \"Seagrass_Cover\". \n",
    "\n",
    "Out_Class is a multi class discrete number: \n",
    "\n",
    "1: \"Bare Sand\",\n",
    "2: \"Bare Sediment\",\n",
    "3: \"Chlorophyta\",\n",
    "4: \"Magnoliopsida\",\n",
    "5: \"Microphytobenthos\",\n",
    "6: \"Phaeophyceae\",\n",
    "7: \"Rhodophyta\",\n",
    "8: \"Water\",\n",
    "9: \"Xanthophyceae\""
   ]
  }
 ],
 "metadata": {
  "kernelspec": {
   "display_name": "Python 3 (ipykernel)",
   "language": "python",
   "name": "python3"
  },
  "language_info": {
   "codemirror_mode": {
    "name": "ipython",
    "version": 3
   },
   "file_extension": ".py",
   "mimetype": "text/x-python",
   "name": "python",
   "nbconvert_exporter": "python",
   "pygments_lexer": "ipython3",
   "version": "3.10.13"
  },
  "widgets": {
   "application/vnd.jupyter.widget-state+json": {
    "state": {},
    "version_major": 2,
    "version_minor": 0
   }
  }
 },
 "nbformat": 4,
 "nbformat_minor": 4
}
