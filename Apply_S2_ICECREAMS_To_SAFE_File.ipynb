{
 "cells": [
  {
   "cell_type": "markdown",
   "metadata": {},
   "source": [
    "# Prediction on S2 by ICE CREAMS"
   ]
  },
  {
   "cell_type": "markdown",
   "metadata": {},
   "source": [
    "Use the apply_ICECREAMS_V1_1.py file to predict on Sentinel-2 image."
   ]
  },
  {
   "cell_type": "code",
   "execution_count": 1,
   "metadata": {},
   "outputs": [],
   "source": [
    "import apply_ICECREAMS\n",
    "import glob"
   ]
  },
  {
   "cell_type": "markdown",
   "metadata": {},
   "source": [
    "Find location of all downloaded and unzipped .SAFE files from Sentinel-2 for site of interest, loop through these files, mask using an intertidal mask for the site of interest that is in the same projection and crs as the .SAFE file being predicted on (Murray et al., 2019), apply the ICE CREAMS model to these masked S2 Imagery. \n",
    "\n",
    "fname is a pathway for the .SAFE files, oname is the desired pathway and new name of prediction geoTIFF."
   ]
  },
  {
   "cell_type": "code",
   "execution_count": 2,
   "metadata": {},
   "outputs": [
    {
     "name": "stderr",
     "output_type": "stream",
     "text": [
      "/Users/bfrd/miniconda3/envs/ICE_CREAMS/lib/python3.13/site-packages/fastai/learner.py:455: UserWarning: load_learner` uses Python's insecure pickle module, which can execute malicious arbitrary code when loading. Only load files you trust.\n",
      "If you only need to load model weights and optimizer state, use the safe `Learner.load` instead.\n",
      "  warn(\"load_learner` uses Python's insecure pickle module, which can execute malicious arbitrary code when loading. Only load files you trust.\\nIf you only need to load model weights and optimizer state, use the safe `Learner.load` instead.\")\n"
     ]
    },
    {
     "name": "stdout",
     "output_type": "stream",
     "text": [
      "Reading in data from Folder/S2A_MSIL2A_20250810T110701_N0511_R137_T30TWT_20250810T151608.SAFE...\n"
     ]
    },
    {
     "name": "stderr",
     "output_type": "stream",
     "text": [
      "/Users/bfrd/Research/OpenAccess/ICE_CREAMS/apply_ICECREAMS.py:216: FutureWarning: It is recommended to use 'rio.write_crs()' instead. 'rio.set_crs()' will likelybe removed in a future release.\n",
      "  s2_data_raw.rio.set_crs(b02.rio.crs)\n"
     ]
    },
    {
     "name": "stdout",
     "output_type": "stream",
     "text": [
      "Masking S2 scene to Folder/Intertidal_Mask.shp\n",
      "Performing classification\n"
     ]
    },
    {
     "name": "stderr",
     "output_type": "stream",
     "text": [
      "/Users/bfrd/miniconda3/envs/ICE_CREAMS/lib/python3.13/site-packages/dask/array/reductions.py:291: RuntimeWarning: All-NaN slice encountered\n",
      "  return np.nanmin(x_chunk, axis=axis, keepdims=keepdims)\n",
      "/Users/bfrd/miniconda3/envs/ICE_CREAMS/lib/python3.13/site-packages/dask/array/reductions.py:291: RuntimeWarning: All-NaN slice encountered\n",
      "  return np.nanmin(x_chunk, axis=axis, keepdims=keepdims)\n"
     ]
    },
    {
     "data": {
      "text/html": [],
      "text/plain": [
       "<IPython.core.display.HTML object>"
      ]
     },
     "metadata": {},
     "output_type": "display_data"
    },
    {
     "name": "stderr",
     "output_type": "stream",
     "text": [
      "/Users/bfrd/Research/OpenAccess/ICE_CREAMS/apply_ICECREAMS.py:443: FutureWarning: It is recommended to use 'rio.write_crs()' instead. 'rio.set_crs()' will likelybe removed in a future release.\n",
      "  Out_Class_dataset.rio.set_crs(s2_data.rio.crs)\n"
     ]
    },
    {
     "name": "stdout",
     "output_type": "stream",
     "text": [
      "Writing out\n",
      "Saved to Folder/S2A_MSIL2A_20250810T110701_N0511_R137_T30TWT_20250810T151608_Pred_BFRD_V1_1.tif\n"
     ]
    }
   ],
   "source": [
    "path = \"Folder/*.SAFE\"\n",
    "Model_Location = \"Folder/ICECREAMS_V1_1.pkl\"\n",
    "Intertidal_Mask_Location = \"Folder/Intertidal_Mask.shp\"\n",
    "\n",
    "for fname in glob.glob(path):\n",
    "    oname=fname.replace('.SAFE','_Pred_BFRD_V1_1.tif')\n",
    "    apply_ICECREAMS.classify_s2_scene(fname,\n",
    "                                                         oname,\n",
    "                                                         Model_Location,\n",
    "                                                         Intertidal_Mask_Location)"
   ]
  },
  {
   "cell_type": "markdown",
   "metadata": {},
   "source": [
    "Output GeoTIFF has three bands at 10 m resolution: \"Out_Class\", \"Class_Probs\" and \"Seagrass_Cover\". \n",
    "\n",
    "Out_Class is a multi class discrete number: \n",
    "\n",
    "1: \"Bare Sand\",\n",
    "2: \"Bare Sediment\",\n",
    "3: \"Chlorophyta\",\n",
    "4: \"Magnoliopsida\",\n",
    "5: \"Microphytobenthos\",\n",
    "6: \"Phaeophyceae\",\n",
    "7: \"Rhodophyta\",\n",
    "8: \"Water\",\n",
    "9: \"Xanthophyceae\""
   ]
  }
 ],
 "metadata": {
  "kernelspec": {
   "display_name": "Python 3 (ipykernel)",
   "language": "python",
   "name": "python3"
  },
  "language_info": {
   "codemirror_mode": {
    "name": "ipython",
    "version": 3
   },
   "file_extension": ".py",
   "mimetype": "text/x-python",
   "name": "python",
   "nbconvert_exporter": "python",
   "pygments_lexer": "ipython3",
   "version": "3.13.7"
  },
  "widgets": {
   "application/vnd.jupyter.widget-state+json": {
    "state": {},
    "version_major": 2,
    "version_minor": 0
   }
  }
 },
 "nbformat": 4,
 "nbformat_minor": 4
}
